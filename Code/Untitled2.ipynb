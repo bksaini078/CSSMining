{
 "cells": [
  {
   "cell_type": "markdown",
   "id": "eeacf4bc",
   "metadata": {},
   "source": [
    "Task 2: Malware API Call Histogram for Malware Classification\n",
    "\n",
    "The goal of this challenge is to use multiway classification to predict the nine malware families in testing set using a model trained with the features from training data provided. This malware features dataset was built from malware samples provided by Abuse.ch. The malware features were extracted by dynamic analysis using the Cuckoo sandbox, the features consist of an API call count histogram. The dataset is split using an 80/20 split. __The label is contained in the first column of the training data. The API histogram represents 208 unique API calls and 9 unique malware families__. The following table gives the statistics of training and testing data for this task.\n",
    "\n",
    "Dataset\tFile\tSamples (Rows)\tDimension (Columns)\n",
    "Training\ttrain_features.txt\t537\t209 ( 1st column is the class label)\n",
    "Testing\ttest_features.txt\t134\t208\n",
    "Results Submission\n",
    "\n",
    "You are required to submit one CSV file containing the prediction for testing sample. The expected result submission should be a CSV file that has 1 column (predicted label in the same definition as the training data class label) and 134 rows (No header line).\n",
    "\n",
    "Citation of This Dataset\n",
    "\n",
    "Paul Black, Malware API Call Histogram Dataset for the 13th International Cybersecurity Data Mining Competition (CDMC2022), Internet Commerce Security Laboratory (ICSL), Federation University Australia, 15/06/2022."
   ]
  },
  {
   "cell_type": "code",
   "execution_count": 1,
   "id": "8f836a3b-171d-4fa2-a8ee-c8a13b50fb9a",
   "metadata": {},
   "outputs": [],
   "source": [
    "import numpy as np\n",
    "import pandas as pd \n",
    "import tensorflow as tf\n",
    "import os\n",
    "import matplotlib.pyplot as plt\n",
    "import dtale as dt\n",
    "%matplotlib inline"
   ]
  },
  {
   "cell_type": "code",
   "execution_count": 2,
   "id": "534bebf8",
   "metadata": {},
   "outputs": [
    {
     "data": {
      "text/plain": [
       "'/Users/teetusaini/Documents/Master_in_Web_science/GithubRepos/cssmining'"
      ]
     },
     "execution_count": 2,
     "metadata": {},
     "output_type": "execute_result"
    }
   ],
   "source": [
    "os.chdir(\"../\")\n",
    "os.getcwd()"
   ]
  },
  {
   "cell_type": "code",
   "execution_count": 3,
   "id": "efcddc8d",
   "metadata": {},
   "outputs": [],
   "source": [
    "os.chdir(os.getcwd())"
   ]
  },
  {
   "cell_type": "code",
   "execution_count": 12,
   "id": "8fa8ac45-29e2-4289-9135-6272669139a4",
   "metadata": {},
   "outputs": [
    {
     "name": "stdout",
     "output_type": "stream",
     "text": [
      "Dataset/Train/train_features.txt\n"
     ]
    },
    {
     "data": {
      "text/html": [
       "<div>\n",
       "<style scoped>\n",
       "    .dataframe tbody tr th:only-of-type {\n",
       "        vertical-align: middle;\n",
       "    }\n",
       "\n",
       "    .dataframe tbody tr th {\n",
       "        vertical-align: top;\n",
       "    }\n",
       "\n",
       "    .dataframe thead th {\n",
       "        text-align: right;\n",
       "    }\n",
       "</style>\n",
       "<table border=\"1\" class=\"dataframe\">\n",
       "  <thead>\n",
       "    <tr style=\"text-align: right;\">\n",
       "      <th></th>\n",
       "      <th>Label</th>\n",
       "      <th>F0</th>\n",
       "      <th>F1</th>\n",
       "      <th>F2</th>\n",
       "      <th>F3</th>\n",
       "      <th>F4</th>\n",
       "      <th>F5</th>\n",
       "      <th>F6</th>\n",
       "      <th>F7</th>\n",
       "      <th>F8</th>\n",
       "      <th>...</th>\n",
       "      <th>F198</th>\n",
       "      <th>F199</th>\n",
       "      <th>F200</th>\n",
       "      <th>F201</th>\n",
       "      <th>F202</th>\n",
       "      <th>F203</th>\n",
       "      <th>F204</th>\n",
       "      <th>F205</th>\n",
       "      <th>F206</th>\n",
       "      <th>F207</th>\n",
       "    </tr>\n",
       "  </thead>\n",
       "  <tbody>\n",
       "    <tr>\n",
       "      <th>0</th>\n",
       "      <td>3</td>\n",
       "      <td>118</td>\n",
       "      <td>2</td>\n",
       "      <td>0</td>\n",
       "      <td>1</td>\n",
       "      <td>0</td>\n",
       "      <td>0</td>\n",
       "      <td>0</td>\n",
       "      <td>4</td>\n",
       "      <td>0</td>\n",
       "      <td>...</td>\n",
       "      <td>0</td>\n",
       "      <td>0</td>\n",
       "      <td>0</td>\n",
       "      <td>0</td>\n",
       "      <td>0</td>\n",
       "      <td>0</td>\n",
       "      <td>0</td>\n",
       "      <td>0</td>\n",
       "      <td>0</td>\n",
       "      <td>0</td>\n",
       "    </tr>\n",
       "    <tr>\n",
       "      <th>1</th>\n",
       "      <td>1</td>\n",
       "      <td>0</td>\n",
       "      <td>0</td>\n",
       "      <td>0</td>\n",
       "      <td>1</td>\n",
       "      <td>0</td>\n",
       "      <td>0</td>\n",
       "      <td>0</td>\n",
       "      <td>8</td>\n",
       "      <td>0</td>\n",
       "      <td>...</td>\n",
       "      <td>0</td>\n",
       "      <td>0</td>\n",
       "      <td>0</td>\n",
       "      <td>0</td>\n",
       "      <td>0</td>\n",
       "      <td>0</td>\n",
       "      <td>0</td>\n",
       "      <td>0</td>\n",
       "      <td>0</td>\n",
       "      <td>0</td>\n",
       "    </tr>\n",
       "    <tr>\n",
       "      <th>2</th>\n",
       "      <td>7</td>\n",
       "      <td>0</td>\n",
       "      <td>0</td>\n",
       "      <td>0</td>\n",
       "      <td>1</td>\n",
       "      <td>0</td>\n",
       "      <td>0</td>\n",
       "      <td>0</td>\n",
       "      <td>16</td>\n",
       "      <td>0</td>\n",
       "      <td>...</td>\n",
       "      <td>0</td>\n",
       "      <td>0</td>\n",
       "      <td>0</td>\n",
       "      <td>0</td>\n",
       "      <td>0</td>\n",
       "      <td>0</td>\n",
       "      <td>0</td>\n",
       "      <td>0</td>\n",
       "      <td>0</td>\n",
       "      <td>0</td>\n",
       "    </tr>\n",
       "    <tr>\n",
       "      <th>3</th>\n",
       "      <td>5</td>\n",
       "      <td>0</td>\n",
       "      <td>0</td>\n",
       "      <td>0</td>\n",
       "      <td>0</td>\n",
       "      <td>0</td>\n",
       "      <td>0</td>\n",
       "      <td>0</td>\n",
       "      <td>0</td>\n",
       "      <td>0</td>\n",
       "      <td>...</td>\n",
       "      <td>0</td>\n",
       "      <td>0</td>\n",
       "      <td>0</td>\n",
       "      <td>0</td>\n",
       "      <td>0</td>\n",
       "      <td>0</td>\n",
       "      <td>0</td>\n",
       "      <td>0</td>\n",
       "      <td>0</td>\n",
       "      <td>0</td>\n",
       "    </tr>\n",
       "    <tr>\n",
       "      <th>4</th>\n",
       "      <td>7</td>\n",
       "      <td>6</td>\n",
       "      <td>0</td>\n",
       "      <td>0</td>\n",
       "      <td>2</td>\n",
       "      <td>0</td>\n",
       "      <td>0</td>\n",
       "      <td>0</td>\n",
       "      <td>1</td>\n",
       "      <td>0</td>\n",
       "      <td>...</td>\n",
       "      <td>0</td>\n",
       "      <td>0</td>\n",
       "      <td>0</td>\n",
       "      <td>0</td>\n",
       "      <td>0</td>\n",
       "      <td>0</td>\n",
       "      <td>0</td>\n",
       "      <td>0</td>\n",
       "      <td>0</td>\n",
       "      <td>0</td>\n",
       "    </tr>\n",
       "    <tr>\n",
       "      <th>...</th>\n",
       "      <td>...</td>\n",
       "      <td>...</td>\n",
       "      <td>...</td>\n",
       "      <td>...</td>\n",
       "      <td>...</td>\n",
       "      <td>...</td>\n",
       "      <td>...</td>\n",
       "      <td>...</td>\n",
       "      <td>...</td>\n",
       "      <td>...</td>\n",
       "      <td>...</td>\n",
       "      <td>...</td>\n",
       "      <td>...</td>\n",
       "      <td>...</td>\n",
       "      <td>...</td>\n",
       "      <td>...</td>\n",
       "      <td>...</td>\n",
       "      <td>...</td>\n",
       "      <td>...</td>\n",
       "      <td>...</td>\n",
       "      <td>...</td>\n",
       "    </tr>\n",
       "    <tr>\n",
       "      <th>532</th>\n",
       "      <td>7</td>\n",
       "      <td>1702</td>\n",
       "      <td>54</td>\n",
       "      <td>117</td>\n",
       "      <td>287</td>\n",
       "      <td>7</td>\n",
       "      <td>0</td>\n",
       "      <td>2</td>\n",
       "      <td>556</td>\n",
       "      <td>0</td>\n",
       "      <td>...</td>\n",
       "      <td>0</td>\n",
       "      <td>0</td>\n",
       "      <td>0</td>\n",
       "      <td>0</td>\n",
       "      <td>0</td>\n",
       "      <td>0</td>\n",
       "      <td>0</td>\n",
       "      <td>0</td>\n",
       "      <td>0</td>\n",
       "      <td>0</td>\n",
       "    </tr>\n",
       "    <tr>\n",
       "      <th>533</th>\n",
       "      <td>7</td>\n",
       "      <td>0</td>\n",
       "      <td>0</td>\n",
       "      <td>0</td>\n",
       "      <td>1</td>\n",
       "      <td>0</td>\n",
       "      <td>0</td>\n",
       "      <td>0</td>\n",
       "      <td>16</td>\n",
       "      <td>0</td>\n",
       "      <td>...</td>\n",
       "      <td>0</td>\n",
       "      <td>0</td>\n",
       "      <td>0</td>\n",
       "      <td>0</td>\n",
       "      <td>0</td>\n",
       "      <td>0</td>\n",
       "      <td>0</td>\n",
       "      <td>0</td>\n",
       "      <td>0</td>\n",
       "      <td>0</td>\n",
       "    </tr>\n",
       "    <tr>\n",
       "      <th>534</th>\n",
       "      <td>3</td>\n",
       "      <td>150</td>\n",
       "      <td>2</td>\n",
       "      <td>0</td>\n",
       "      <td>1</td>\n",
       "      <td>0</td>\n",
       "      <td>0</td>\n",
       "      <td>0</td>\n",
       "      <td>4</td>\n",
       "      <td>0</td>\n",
       "      <td>...</td>\n",
       "      <td>0</td>\n",
       "      <td>0</td>\n",
       "      <td>0</td>\n",
       "      <td>0</td>\n",
       "      <td>0</td>\n",
       "      <td>0</td>\n",
       "      <td>0</td>\n",
       "      <td>0</td>\n",
       "      <td>0</td>\n",
       "      <td>0</td>\n",
       "    </tr>\n",
       "    <tr>\n",
       "      <th>535</th>\n",
       "      <td>5</td>\n",
       "      <td>8</td>\n",
       "      <td>0</td>\n",
       "      <td>0</td>\n",
       "      <td>0</td>\n",
       "      <td>0</td>\n",
       "      <td>0</td>\n",
       "      <td>0</td>\n",
       "      <td>6</td>\n",
       "      <td>1</td>\n",
       "      <td>...</td>\n",
       "      <td>0</td>\n",
       "      <td>0</td>\n",
       "      <td>0</td>\n",
       "      <td>0</td>\n",
       "      <td>0</td>\n",
       "      <td>0</td>\n",
       "      <td>0</td>\n",
       "      <td>0</td>\n",
       "      <td>0</td>\n",
       "      <td>0</td>\n",
       "    </tr>\n",
       "    <tr>\n",
       "      <th>536</th>\n",
       "      <td>5</td>\n",
       "      <td>0</td>\n",
       "      <td>0</td>\n",
       "      <td>1</td>\n",
       "      <td>0</td>\n",
       "      <td>0</td>\n",
       "      <td>0</td>\n",
       "      <td>0</td>\n",
       "      <td>1</td>\n",
       "      <td>0</td>\n",
       "      <td>...</td>\n",
       "      <td>0</td>\n",
       "      <td>0</td>\n",
       "      <td>0</td>\n",
       "      <td>0</td>\n",
       "      <td>0</td>\n",
       "      <td>0</td>\n",
       "      <td>0</td>\n",
       "      <td>0</td>\n",
       "      <td>0</td>\n",
       "      <td>0</td>\n",
       "    </tr>\n",
       "  </tbody>\n",
       "</table>\n",
       "<p>537 rows × 209 columns</p>\n",
       "</div>"
      ],
      "text/plain": [
       "     Label    F0  F1   F2   F3  F4  F5  F6   F7  F8  ...  F198  F199  F200  \\\n",
       "0        3   118   2    0    1   0   0   0    4   0  ...     0     0     0   \n",
       "1        1     0   0    0    1   0   0   0    8   0  ...     0     0     0   \n",
       "2        7     0   0    0    1   0   0   0   16   0  ...     0     0     0   \n",
       "3        5     0   0    0    0   0   0   0    0   0  ...     0     0     0   \n",
       "4        7     6   0    0    2   0   0   0    1   0  ...     0     0     0   \n",
       "..     ...   ...  ..  ...  ...  ..  ..  ..  ...  ..  ...   ...   ...   ...   \n",
       "532      7  1702  54  117  287   7   0   2  556   0  ...     0     0     0   \n",
       "533      7     0   0    0    1   0   0   0   16   0  ...     0     0     0   \n",
       "534      3   150   2    0    1   0   0   0    4   0  ...     0     0     0   \n",
       "535      5     8   0    0    0   0   0   0    6   1  ...     0     0     0   \n",
       "536      5     0   0    1    0   0   0   0    1   0  ...     0     0     0   \n",
       "\n",
       "     F201  F202  F203  F204  F205  F206  F207  \n",
       "0       0     0     0     0     0     0     0  \n",
       "1       0     0     0     0     0     0     0  \n",
       "2       0     0     0     0     0     0     0  \n",
       "3       0     0     0     0     0     0     0  \n",
       "4       0     0     0     0     0     0     0  \n",
       "..    ...   ...   ...   ...   ...   ...   ...  \n",
       "532     0     0     0     0     0     0     0  \n",
       "533     0     0     0     0     0     0     0  \n",
       "534     0     0     0     0     0     0     0  \n",
       "535     0     0     0     0     0     0     0  \n",
       "536     0     0     0     0     0     0     0  \n",
       "\n",
       "[537 rows x 209 columns]"
      ]
     },
     "execution_count": 12,
     "metadata": {},
     "output_type": "execute_result"
    }
   ],
   "source": [
    "dataset_loc='Dataset/'\n",
    "print(dataset_loc+'Train/train_features.txt')\n",
    "col_features= ['Label']+(['F'+str(i) for i in range(208)])\n",
    "\n",
    "df= pd.read_csv(os.getcwd()+\"/Dataset/Train/train_features.txt\",header=None,names=col_features,dtype=int)\n",
    "df\n"
   ]
  },
  {
   "cell_type": "code",
   "execution_count": 13,
   "id": "c26608c6-2600-4950-99e4-d26ec88e3f09",
   "metadata": {},
   "outputs": [
    {
     "data": {
      "text/html": [
       "\n",
       "        <iframe\n",
       "            width=\"100%\"\n",
       "            height=\"475\"\n",
       "            src=\"http://teetus-MacBook-Pro.local:40000/dtale/iframe/3\"\n",
       "            frameborder=\"0\"\n",
       "            allowfullscreen\n",
       "            \n",
       "        ></iframe>\n",
       "        "
      ],
      "text/plain": [
       "<IPython.lib.display.IFrame at 0x16dd31730>"
      ]
     },
     "metadata": {},
     "output_type": "display_data"
    },
    {
     "data": {
      "text/plain": []
     },
     "execution_count": 13,
     "metadata": {},
     "output_type": "execute_result"
    }
   ],
   "source": [
    "dt.show(df)"
   ]
  },
  {
   "cell_type": "code",
   "execution_count": 14,
   "id": "42ccb0c8-eeba-4af6-ab49-343f720449e1",
   "metadata": {},
   "outputs": [
    {
     "data": {
      "text/plain": [
       "(     Label\n",
       " 0        3\n",
       " 1        1\n",
       " 2        7\n",
       " 3        5\n",
       " 4        7\n",
       " ..     ...\n",
       " 532      7\n",
       " 533      7\n",
       " 534      3\n",
       " 535      5\n",
       " 536      5\n",
       " \n",
       " [537 rows x 1 columns],\n",
       "        F0  F1   F2   F3  F4  F5  F6   F7  F8  F9  ...  F198  F199  F200  F201  \\\n",
       " 0     118   2    0    1   0   0   0    4   0  35  ...     0     0     0     0   \n",
       " 1       0   0    0    1   0   0   0    8   0   0  ...     0     0     0     0   \n",
       " 2       0   0    0    1   0   0   0   16   0   0  ...     0     0     0     0   \n",
       " 3       0   0    0    0   0   0   0    0   0   0  ...     0     0     0     0   \n",
       " 4       6   0    0    2   0   0   0    1   0   0  ...     0     0     0     0   \n",
       " ..    ...  ..  ...  ...  ..  ..  ..  ...  ..  ..  ...   ...   ...   ...   ...   \n",
       " 532  1702  54  117  287   7   0   2  556   0   0  ...     0     0     0     0   \n",
       " 533     0   0    0    1   0   0   0   16   0   0  ...     0     0     0     0   \n",
       " 534   150   2    0    1   0   0   0    4   0  35  ...     0     0     0     0   \n",
       " 535     8   0    0    0   0   0   0    6   1   0  ...     0     0     0     0   \n",
       " 536     0   0    1    0   0   0   0    1   0   0  ...     0     0     0     0   \n",
       " \n",
       "      F202  F203  F204  F205  F206  F207  \n",
       " 0       0     0     0     0     0     0  \n",
       " 1       0     0     0     0     0     0  \n",
       " 2       0     0     0     0     0     0  \n",
       " 3       0     0     0     0     0     0  \n",
       " 4       0     0     0     0     0     0  \n",
       " ..    ...   ...   ...   ...   ...   ...  \n",
       " 532     0     0     0     0     0     0  \n",
       " 533     0     0     0     0     0     0  \n",
       " 534     0     0     0     0     0     0  \n",
       " 535     0     0     0     0     0     0  \n",
       " 536     0     0     0     0     0     0  \n",
       " \n",
       " [537 rows x 208 columns])"
      ]
     },
     "execution_count": 14,
     "metadata": {},
     "output_type": "execute_result"
    },
    {
     "name": "stderr",
     "output_type": "stream",
     "text": [
      "/Users/teetusaini/Documents/Master_in_Web_science/GithubRepos/cssmining/Code/env_tensorflow/lib/python3.8/site-packages/numpy/lib/function_base.py:2829: RuntimeWarning:\n",
      "\n",
      "invalid value encountered in true_divide\n",
      "\n",
      "/Users/teetusaini/Documents/Master_in_Web_science/GithubRepos/cssmining/Code/env_tensorflow/lib/python3.8/site-packages/numpy/lib/function_base.py:2830: RuntimeWarning:\n",
      "\n",
      "invalid value encountered in true_divide\n",
      "\n"
     ]
    },
    {
     "name": "stdout",
     "output_type": "stream",
     "text": [
      "Exception occurred while processing request: Object of type int64 is not JSON serializable\n",
      "Traceback (most recent call last):\n",
      "  File \"/Users/teetusaini/Documents/Master_in_Web_science/GithubRepos/cssmining/Code/env_tensorflow/lib/python3.8/site-packages/dtale/views.py\", line 120, in _handle_exceptions\n",
      "    return func(*args, **kwargs)\n",
      "  File \"/Users/teetusaini/Documents/Master_in_Web_science/GithubRepos/cssmining/Code/env_tensorflow/lib/python3.8/site-packages/dtale/views.py\", line 3626, in network_data\n",
      "    return jsonify(dict(nodes=nodes, edges=edges, groups=groups, success=True))\n",
      "  File \"/Users/teetusaini/Documents/Master_in_Web_science/GithubRepos/cssmining/Code/env_tensorflow/lib/python3.8/site-packages/dtale/utils.py\", line 627, in jsonify\n",
      "    return _jsonify(return_data)\n",
      "  File \"/Users/teetusaini/Documents/Master_in_Web_science/GithubRepos/cssmining/Code/env_tensorflow/lib/python3.8/site-packages/flask/json/__init__.py\", line 301, in jsonify\n",
      "    f\"{dumps(data, indent=indent, separators=separators)}\\n\",\n",
      "  File \"/Users/teetusaini/Documents/Master_in_Web_science/GithubRepos/cssmining/Code/env_tensorflow/lib/python3.8/site-packages/flask/json/__init__.py\", line 131, in dumps\n",
      "    return _json.dumps(obj, **kwargs)\n",
      "  File \"/Users/teetusaini/Documents/Master_in_Web_science/GithubRepos/cssmining/Code/env_tensorflow/lib/python3.8/json/__init__.py\", line 234, in dumps\n",
      "    return cls(\n",
      "  File \"/Users/teetusaini/Documents/Master_in_Web_science/GithubRepos/cssmining/Code/env_tensorflow/lib/python3.8/json/encoder.py\", line 199, in encode\n",
      "    chunks = self.iterencode(o, _one_shot=True)\n",
      "  File \"/Users/teetusaini/Documents/Master_in_Web_science/GithubRepos/cssmining/Code/env_tensorflow/lib/python3.8/json/encoder.py\", line 257, in iterencode\n",
      "    return _iterencode(o, 0)\n",
      "  File \"/Users/teetusaini/Documents/Master_in_Web_science/GithubRepos/cssmining/Code/env_tensorflow/lib/python3.8/site-packages/flask/json/__init__.py\", line 50, in default\n",
      "    return super().default(o)\n",
      "  File \"/Users/teetusaini/Documents/Master_in_Web_science/GithubRepos/cssmining/Code/env_tensorflow/lib/python3.8/json/encoder.py\", line 179, in default\n",
      "    raise TypeError(f'Object of type {o.__class__.__name__} '\n",
      "TypeError: Object of type int64 is not JSON serializable\n"
     ]
    },
    {
     "name": "stderr",
     "output_type": "stream",
     "text": [
      "2022-07-11 14:14:13,457 - ERROR    - Exception occurred while processing request: Object of type int64 is not JSON serializable\n",
      "Traceback (most recent call last):\n",
      "  File \"/Users/teetusaini/Documents/Master_in_Web_science/GithubRepos/cssmining/Code/env_tensorflow/lib/python3.8/site-packages/dtale/views.py\", line 120, in _handle_exceptions\n",
      "    return func(*args, **kwargs)\n",
      "  File \"/Users/teetusaini/Documents/Master_in_Web_science/GithubRepos/cssmining/Code/env_tensorflow/lib/python3.8/site-packages/dtale/views.py\", line 3626, in network_data\n",
      "    return jsonify(dict(nodes=nodes, edges=edges, groups=groups, success=True))\n",
      "  File \"/Users/teetusaini/Documents/Master_in_Web_science/GithubRepos/cssmining/Code/env_tensorflow/lib/python3.8/site-packages/dtale/utils.py\", line 627, in jsonify\n",
      "    return _jsonify(return_data)\n",
      "  File \"/Users/teetusaini/Documents/Master_in_Web_science/GithubRepos/cssmining/Code/env_tensorflow/lib/python3.8/site-packages/flask/json/__init__.py\", line 301, in jsonify\n",
      "    f\"{dumps(data, indent=indent, separators=separators)}\\n\",\n",
      "  File \"/Users/teetusaini/Documents/Master_in_Web_science/GithubRepos/cssmining/Code/env_tensorflow/lib/python3.8/site-packages/flask/json/__init__.py\", line 131, in dumps\n",
      "    return _json.dumps(obj, **kwargs)\n",
      "  File \"/Users/teetusaini/Documents/Master_in_Web_science/GithubRepos/cssmining/Code/env_tensorflow/lib/python3.8/json/__init__.py\", line 234, in dumps\n",
      "    return cls(\n",
      "  File \"/Users/teetusaini/Documents/Master_in_Web_science/GithubRepos/cssmining/Code/env_tensorflow/lib/python3.8/json/encoder.py\", line 199, in encode\n",
      "    chunks = self.iterencode(o, _one_shot=True)\n",
      "  File \"/Users/teetusaini/Documents/Master_in_Web_science/GithubRepos/cssmining/Code/env_tensorflow/lib/python3.8/json/encoder.py\", line 257, in iterencode\n",
      "    return _iterencode(o, 0)\n",
      "  File \"/Users/teetusaini/Documents/Master_in_Web_science/GithubRepos/cssmining/Code/env_tensorflow/lib/python3.8/site-packages/flask/json/__init__.py\", line 50, in default\n",
      "    return super().default(o)\n",
      "  File \"/Users/teetusaini/Documents/Master_in_Web_science/GithubRepos/cssmining/Code/env_tensorflow/lib/python3.8/json/encoder.py\", line 179, in default\n",
      "    raise TypeError(f'Object of type {o.__class__.__name__} '\n",
      "TypeError: Object of type int64 is not JSON serializable\n"
     ]
    }
   ],
   "source": [
    "df_label= pd.DataFrame()\n",
    "df_label['Label']= df['Label'].copy()\n",
    "df=df.drop(columns=['Label'])\n",
    "df_label,df"
   ]
  },
  {
   "cell_type": "code",
   "execution_count": 6,
   "id": "ffa2882a",
   "metadata": {},
   "outputs": [
    {
     "data": {
      "text/plain": [
       "<AxesSubplot:>"
      ]
     },
     "execution_count": 6,
     "metadata": {},
     "output_type": "execute_result"
    },
    {
     "data": {
      "image/png": "[encoded data removed]",
      "text/plain": [
       "<Figure size 432x288 with 1 Axes>"
      ]
     },
     "metadata": {
      "needs_background": "light"
     },
     "output_type": "display_data"
    }
   ],
   "source": [
    "df_label['Label'].hist()"
   ]
  },
  {
   "cell_type": "code",
   "execution_count": 7,
   "id": "581ac4c2-d482-4b69-8db9-99b84ab60ca9",
   "metadata": {},
   "outputs": [
    {
     "data": {
      "text/plain": [
       "<AxesSubplot:>"
      ]
     },
     "execution_count": 7,
     "metadata": {},
     "output_type": "execute_result"
    },
    {
     "data": {
      "image/png": "[encoded data removed]",
      "text/plain": [
       "<Figure size 432x288 with 1 Axes>"
      ]
     },
     "metadata": {
      "needs_background": "light"
     },
     "output_type": "display_data"
    }
   ],
   "source": [
    "df['F0'].hist()"
   ]
  },
  {
   "cell_type": "code",
   "execution_count": 8,
   "id": "23bc7186-c2fe-4e1d-a8cd-d58c39ad53ca",
   "metadata": {},
   "outputs": [
    {
     "data": {
      "text/plain": [
       "count      537.000000\n",
       "mean        48.445065\n",
       "std        829.677431\n",
       "min          0.000000\n",
       "25%          0.000000\n",
       "50%          0.000000\n",
       "75%          2.000000\n",
       "max      19176.000000\n",
       "Name: F1, dtype: float64"
      ]
     },
     "execution_count": 8,
     "metadata": {},
     "output_type": "execute_result"
    }
   ],
   "source": [
    "df['F1'].describe()"
   ]
  },
  {
   "cell_type": "code",
   "execution_count": null,
   "id": "6a72b416",
   "metadata": {},
   "outputs": [],
   "source": []
  }
 ],
 "metadata": {
  "kernelspec": {
   "display_name": "tensorflow",
   "language": "python",
   "name": "tensorflow"
  },
  "language_info": {
   "codemirror_mode": {
    "name": "ipython",
    "version": 3
   },
   "file_extension": ".py",
   "mimetype": "text/x-python",
   "name": "python",
   "nbconvert_exporter": "python",
   "pygments_lexer": "ipython3",
   "version": "3.8.13"
  },
  "vscode": {
   "interpreter": {
    "hash": "8f05e03abd1b4275ba35ecc5297c85ec4c1b5b3c783b4c1ac8277d74e4d2a921"
   }
  }
 },
 "nbformat": 4,
 "nbformat_minor": 5
}
